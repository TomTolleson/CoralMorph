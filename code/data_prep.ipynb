{
 "metadata": {
  "language_info": {
   "codemirror_mode": {
    "name": "ipython",
    "version": 3
   },
   "file_extension": ".py",
   "mimetype": "text/x-python",
   "name": "python",
   "nbconvert_exporter": "python",
   "pygments_lexer": "ipython3",
   "version": "3.8.0"
  },
  "orig_nbformat": 4,
  "kernelspec": {
   "name": "python3",
   "display_name": "Python 3.8.0 64-bit ('3.8.0')"
  },
  "interpreter": {
   "hash": "2fe679c73702b0eeb76ef8b9da44d4e35162062cd5ce3d3c2725af0a95e310cf"
  }
 },
 "nbformat": 4,
 "nbformat_minor": 2,
 "cells": [
  {
   "cell_type": "code",
   "execution_count": 2,
   "metadata": {},
   "outputs": [],
   "source": [
    "import pandas as pd"
   ]
  },
  {
   "cell_type": "code",
   "execution_count": 3,
   "metadata": {},
   "outputs": [],
   "source": [
    "df = pd.read_csv(\"index_fish.csv\", names=[\"image\", \"label\"])"
   ]
  },
  {
   "cell_type": "code",
   "execution_count": 4,
   "metadata": {},
   "outputs": [],
   "source": [
    "df['image'] = df['image'].str.replace(\" \",\"\")"
   ]
  },
  {
   "cell_type": "code",
   "execution_count": 10,
   "metadata": {},
   "outputs": [],
   "source": [
    "df.to_csv('index.csv')"
   ]
  },
  {
   "cell_type": "code",
   "execution_count": 7,
   "metadata": {},
   "outputs": [],
   "source": [
    "df['image'] = df['image'].str[3:]"
   ]
  },
  {
   "cell_type": "code",
   "execution_count": 8,
   "metadata": {},
   "outputs": [],
   "source": [
    "df['image'] = 'gs://coralmorph_fish_1/images/' + df['image'].astype(str)"
   ]
  },
  {
   "cell_type": "code",
   "execution_count": 9,
   "metadata": {},
   "outputs": [
    {
     "output_type": "execute_result",
     "data": {
      "text/plain": [
       "                                                image      label\n",
       "0     gs://coralmorph_fish_1/images/Abudefduf001.jpeg  Abudefduf\n",
       "1     gs://coralmorph_fish_1/images/Abudefduf002.jpeg  Abudefduf\n",
       "2     gs://coralmorph_fish_1/images/Abudefduf003.jpeg  Abudefduf\n",
       "3     gs://coralmorph_fish_1/images/Abudefduf004.jpeg  Abudefduf\n",
       "4     gs://coralmorph_fish_1/images/Abudefduf005.jpeg  Abudefduf\n",
       "...                                               ...        ...\n",
       "5439   gs://coralmorph_fish_1/images/Urobatis206.jpeg   Urobatis\n",
       "5440   gs://coralmorph_fish_1/images/Urobatis207.jpeg   Urobatis\n",
       "5441   gs://coralmorph_fish_1/images/Urobatis208.jpeg   Urobatis\n",
       "5442   gs://coralmorph_fish_1/images/Urobatis209.jpeg   Urobatis\n",
       "5443   gs://coralmorph_fish_1/images/Urobatis210.jpeg   Urobatis\n",
       "\n",
       "[5444 rows x 2 columns]"
      ],
      "text/html": "<div>\n<style scoped>\n    .dataframe tbody tr th:only-of-type {\n        vertical-align: middle;\n    }\n\n    .dataframe tbody tr th {\n        vertical-align: top;\n    }\n\n    .dataframe thead th {\n        text-align: right;\n    }\n</style>\n<table border=\"1\" class=\"dataframe\">\n  <thead>\n    <tr style=\"text-align: right;\">\n      <th></th>\n      <th>image</th>\n      <th>label</th>\n    </tr>\n  </thead>\n  <tbody>\n    <tr>\n      <th>0</th>\n      <td>gs://coralmorph_fish_1/images/Abudefduf001.jpeg</td>\n      <td>Abudefduf</td>\n    </tr>\n    <tr>\n      <th>1</th>\n      <td>gs://coralmorph_fish_1/images/Abudefduf002.jpeg</td>\n      <td>Abudefduf</td>\n    </tr>\n    <tr>\n      <th>2</th>\n      <td>gs://coralmorph_fish_1/images/Abudefduf003.jpeg</td>\n      <td>Abudefduf</td>\n    </tr>\n    <tr>\n      <th>3</th>\n      <td>gs://coralmorph_fish_1/images/Abudefduf004.jpeg</td>\n      <td>Abudefduf</td>\n    </tr>\n    <tr>\n      <th>4</th>\n      <td>gs://coralmorph_fish_1/images/Abudefduf005.jpeg</td>\n      <td>Abudefduf</td>\n    </tr>\n    <tr>\n      <th>...</th>\n      <td>...</td>\n      <td>...</td>\n    </tr>\n    <tr>\n      <th>5439</th>\n      <td>gs://coralmorph_fish_1/images/Urobatis206.jpeg</td>\n      <td>Urobatis</td>\n    </tr>\n    <tr>\n      <th>5440</th>\n      <td>gs://coralmorph_fish_1/images/Urobatis207.jpeg</td>\n      <td>Urobatis</td>\n    </tr>\n    <tr>\n      <th>5441</th>\n      <td>gs://coralmorph_fish_1/images/Urobatis208.jpeg</td>\n      <td>Urobatis</td>\n    </tr>\n    <tr>\n      <th>5442</th>\n      <td>gs://coralmorph_fish_1/images/Urobatis209.jpeg</td>\n      <td>Urobatis</td>\n    </tr>\n    <tr>\n      <th>5443</th>\n      <td>gs://coralmorph_fish_1/images/Urobatis210.jpeg</td>\n      <td>Urobatis</td>\n    </tr>\n  </tbody>\n</table>\n<p>5444 rows × 2 columns</p>\n</div>"
     },
     "metadata": {},
     "execution_count": 9
    }
   ],
   "source": [
    "df"
   ]
  },
  {
   "cell_type": "code",
   "execution_count": null,
   "metadata": {},
   "outputs": [],
   "source": []
  }
 ]
}